{
 "cells": [
  {
   "cell_type": "code",
   "execution_count": 2,
   "id": "15b4016c",
   "metadata": {},
   "outputs": [],
   "source": [
    "import pandas as pd\n",
    "import scipy as sp\n",
    "import re\n",
    "from nltk.corpus import stopwords\n",
    "from nltk.tokenize import word_tokenize\n",
    "import numpy as np\n",
    "from scipy.sparse import csr_matrix\n",
    "from sklearn.neighbors import NearestNeighbors\n",
    "from sklearn.decomposition import TruncatedSVD\n",
    "\n",
    "#Load Datasets\n",
    "df_movies = pd.read_csv('movies.csv', usecols=['movieId', 'title'],\n",
    "    dtype={'movieId': 'int32', 'title': 'str'})\n",
    "df_ratings = pd.read_csv('ratings.csv', usecols=['userId', 'movieId', 'rating'],\n",
    "    dtype={'userId': 'int32', 'movieId': 'int32', 'rating': 'float32'})"
   ]
  },
  {
   "cell_type": "code",
   "execution_count": 3,
   "id": "5eb3eca2",
   "metadata": {},
   "outputs": [],
   "source": [
    "#Install surprise"
   ]
  },
  {
   "cell_type": "code",
   "execution_count": 74,
   "id": "25c8bab8",
   "metadata": {},
   "outputs": [],
   "source": [
    "#Show dataframe 1\n",
    "df_movies\n",
    "\n",
    "#Movie dictionary\n",
    "movies_dict = dict(zip(df_movies.movieId, df_movies.title))"
   ]
  },
  {
   "cell_type": "code",
   "execution_count": 75,
   "id": "4b630c5e",
   "metadata": {},
   "outputs": [
    {
     "data": {
      "text/html": [
       "<div>\n",
       "<style scoped>\n",
       "    .dataframe tbody tr th:only-of-type {\n",
       "        vertical-align: middle;\n",
       "    }\n",
       "\n",
       "    .dataframe tbody tr th {\n",
       "        vertical-align: top;\n",
       "    }\n",
       "\n",
       "    .dataframe thead th {\n",
       "        text-align: right;\n",
       "    }\n",
       "</style>\n",
       "<table border=\"1\" class=\"dataframe\">\n",
       "  <thead>\n",
       "    <tr style=\"text-align: right;\">\n",
       "      <th></th>\n",
       "      <th>userId</th>\n",
       "      <th>movieId</th>\n",
       "      <th>rating</th>\n",
       "    </tr>\n",
       "  </thead>\n",
       "  <tbody>\n",
       "    <tr>\n",
       "      <th>0</th>\n",
       "      <td>1</td>\n",
       "      <td>1</td>\n",
       "      <td>4.0</td>\n",
       "    </tr>\n",
       "    <tr>\n",
       "      <th>1</th>\n",
       "      <td>1</td>\n",
       "      <td>3</td>\n",
       "      <td>4.0</td>\n",
       "    </tr>\n",
       "    <tr>\n",
       "      <th>2</th>\n",
       "      <td>1</td>\n",
       "      <td>6</td>\n",
       "      <td>4.0</td>\n",
       "    </tr>\n",
       "    <tr>\n",
       "      <th>3</th>\n",
       "      <td>1</td>\n",
       "      <td>47</td>\n",
       "      <td>5.0</td>\n",
       "    </tr>\n",
       "    <tr>\n",
       "      <th>4</th>\n",
       "      <td>1</td>\n",
       "      <td>50</td>\n",
       "      <td>5.0</td>\n",
       "    </tr>\n",
       "  </tbody>\n",
       "</table>\n",
       "</div>"
      ],
      "text/plain": [
       "   userId  movieId  rating\n",
       "0       1        1     4.0\n",
       "1       1        3     4.0\n",
       "2       1        6     4.0\n",
       "3       1       47     5.0\n",
       "4       1       50     5.0"
      ]
     },
     "execution_count": 75,
     "metadata": {},
     "output_type": "execute_result"
    }
   ],
   "source": [
    "#Show dataframe 2\n",
    "df_ratings.head()"
   ]
  },
  {
   "cell_type": "code",
   "execution_count": 76,
   "id": "b5ab2130",
   "metadata": {},
   "outputs": [
    {
     "data": {
      "text/html": [
       "<div>\n",
       "<style scoped>\n",
       "    .dataframe tbody tr th:only-of-type {\n",
       "        vertical-align: middle;\n",
       "    }\n",
       "\n",
       "    .dataframe tbody tr th {\n",
       "        vertical-align: top;\n",
       "    }\n",
       "\n",
       "    .dataframe thead th {\n",
       "        text-align: right;\n",
       "    }\n",
       "</style>\n",
       "<table border=\"1\" class=\"dataframe\">\n",
       "  <thead>\n",
       "    <tr style=\"text-align: right;\">\n",
       "      <th></th>\n",
       "      <th>userId</th>\n",
       "      <th>movieId</th>\n",
       "      <th>rating</th>\n",
       "      <th>title</th>\n",
       "    </tr>\n",
       "  </thead>\n",
       "  <tbody>\n",
       "    <tr>\n",
       "      <th>0</th>\n",
       "      <td>1</td>\n",
       "      <td>1</td>\n",
       "      <td>4.0</td>\n",
       "      <td>Toy Story (1995)</td>\n",
       "    </tr>\n",
       "    <tr>\n",
       "      <th>1</th>\n",
       "      <td>5</td>\n",
       "      <td>1</td>\n",
       "      <td>4.0</td>\n",
       "      <td>Toy Story (1995)</td>\n",
       "    </tr>\n",
       "    <tr>\n",
       "      <th>2</th>\n",
       "      <td>7</td>\n",
       "      <td>1</td>\n",
       "      <td>4.5</td>\n",
       "      <td>Toy Story (1995)</td>\n",
       "    </tr>\n",
       "    <tr>\n",
       "      <th>3</th>\n",
       "      <td>15</td>\n",
       "      <td>1</td>\n",
       "      <td>2.5</td>\n",
       "      <td>Toy Story (1995)</td>\n",
       "    </tr>\n",
       "    <tr>\n",
       "      <th>4</th>\n",
       "      <td>17</td>\n",
       "      <td>1</td>\n",
       "      <td>4.5</td>\n",
       "      <td>Toy Story (1995)</td>\n",
       "    </tr>\n",
       "  </tbody>\n",
       "</table>\n",
       "</div>"
      ],
      "text/plain": [
       "   userId  movieId  rating             title\n",
       "0       1        1     4.0  Toy Story (1995)\n",
       "1       5        1     4.0  Toy Story (1995)\n",
       "2       7        1     4.5  Toy Story (1995)\n",
       "3      15        1     2.5  Toy Story (1995)\n",
       "4      17        1     4.5  Toy Story (1995)"
      ]
     },
     "execution_count": 76,
     "metadata": {},
     "output_type": "execute_result"
    }
   ],
   "source": [
    "#Merge movie and rating\n",
    "rating_with_title = pd.merge(df_ratings, df_movies, on='movieId')\n",
    "rating_with_title.head()"
   ]
  },
  {
   "cell_type": "code",
   "execution_count": 7,
   "id": "9d36d062",
   "metadata": {},
   "outputs": [
    {
     "data": {
      "text/plain": [
       "0.9830003169443864"
      ]
     },
     "execution_count": 7,
     "metadata": {},
     "output_type": "execute_result"
    }
   ],
   "source": [
    "#Check sparsity of new matrix\n",
    "numratings = len(rating_with_title['rating'])\n",
    "numusers = len(rating_with_title['userId'].unique())\n",
    "numitems = len(rating_with_title['movieId'].unique())\n",
    "\n",
    "sparse = 1 - (numratings / (numusers*numitems))\n",
    "sparse\n",
    "#The dataset is very sparse with sparsity of 0.9830003169443864"
   ]
  },
  {
   "cell_type": "code",
   "execution_count": 77,
   "id": "fdb8d63e",
   "metadata": {},
   "outputs": [
    {
     "data": {
      "text/html": [
       "<div>\n",
       "<style scoped>\n",
       "    .dataframe tbody tr th:only-of-type {\n",
       "        vertical-align: middle;\n",
       "    }\n",
       "\n",
       "    .dataframe tbody tr th {\n",
       "        vertical-align: top;\n",
       "    }\n",
       "\n",
       "    .dataframe thead th {\n",
       "        text-align: right;\n",
       "    }\n",
       "</style>\n",
       "<table border=\"1\" class=\"dataframe\">\n",
       "  <thead>\n",
       "    <tr style=\"text-align: right;\">\n",
       "      <th></th>\n",
       "      <th>userId</th>\n",
       "      <th>movieId</th>\n",
       "      <th>rating</th>\n",
       "      <th>title</th>\n",
       "    </tr>\n",
       "  </thead>\n",
       "  <tbody>\n",
       "    <tr>\n",
       "      <th>0</th>\n",
       "      <td>1</td>\n",
       "      <td>1</td>\n",
       "      <td>4.0</td>\n",
       "      <td>Toy Story (1995)</td>\n",
       "    </tr>\n",
       "    <tr>\n",
       "      <th>5</th>\n",
       "      <td>18</td>\n",
       "      <td>1</td>\n",
       "      <td>3.5</td>\n",
       "      <td>Toy Story (1995)</td>\n",
       "    </tr>\n",
       "    <tr>\n",
       "      <th>6</th>\n",
       "      <td>19</td>\n",
       "      <td>1</td>\n",
       "      <td>4.0</td>\n",
       "      <td>Toy Story (1995)</td>\n",
       "    </tr>\n",
       "    <tr>\n",
       "      <th>7</th>\n",
       "      <td>21</td>\n",
       "      <td>1</td>\n",
       "      <td>3.5</td>\n",
       "      <td>Toy Story (1995)</td>\n",
       "    </tr>\n",
       "    <tr>\n",
       "      <th>15</th>\n",
       "      <td>45</td>\n",
       "      <td>1</td>\n",
       "      <td>4.0</td>\n",
       "      <td>Toy Story (1995)</td>\n",
       "    </tr>\n",
       "  </tbody>\n",
       "</table>\n",
       "</div>"
      ],
      "text/plain": [
       "    userId  movieId  rating             title\n",
       "0        1        1     4.0  Toy Story (1995)\n",
       "5       18        1     3.5  Toy Story (1995)\n",
       "6       19        1     4.0  Toy Story (1995)\n",
       "7       21        1     3.5  Toy Story (1995)\n",
       "15      45        1     4.0  Toy Story (1995)"
      ]
     },
     "execution_count": 77,
     "metadata": {},
     "output_type": "execute_result"
    }
   ],
   "source": [
    "#Filter dataframe\n",
    "\n",
    "#Filter out users who have rated less than 200 movies \n",
    "rating_with_title = rating_with_title.groupby('userId').filter(lambda x: len(x)>200)\n",
    "#Filter out movies who have rated less than 10 movies \n",
    "rating_with_title = rating_with_title.groupby('movieId').filter(lambda x: len(x)>10)\n",
    "rating_with_title.head()"
   ]
  },
  {
   "cell_type": "code",
   "execution_count": 9,
   "id": "7571a821",
   "metadata": {},
   "outputs": [
    {
     "data": {
      "text/plain": [
       "0.7931695867508024"
      ]
     },
     "execution_count": 9,
     "metadata": {},
     "output_type": "execute_result"
    }
   ],
   "source": [
    "#Check sparsity again\n",
    "numratings = len(rating_with_title['rating'])\n",
    "numusers = len(rating_with_title['userId'].unique())\n",
    "numitems = len(rating_with_title['movieId'].unique())\n",
    "\n",
    "sparse = 1 - (numratings / (numusers*numitems))\n",
    "sparse\n",
    "#The sparsity of dataset is a lot better with only 0.738161578367764"
   ]
  },
  {
   "cell_type": "code",
   "execution_count": 14,
   "id": "91e8a8b1",
   "metadata": {},
   "outputs": [
    {
     "name": "stdout",
     "output_type": "stream",
     "text": [
      "Estimating biases using als...\n",
      "Computing the msd similarity matrix...\n",
      "Done computing similarity matrix.\n",
      "Estimating biases using als...\n",
      "Computing the msd similarity matrix...\n",
      "Done computing similarity matrix.\n",
      "Estimating biases using als...\n",
      "Computing the msd similarity matrix...\n",
      "Done computing similarity matrix.\n",
      "Computing the msd similarity matrix...\n",
      "Done computing similarity matrix.\n",
      "Computing the msd similarity matrix...\n",
      "Done computing similarity matrix.\n",
      "Computing the msd similarity matrix...\n",
      "Done computing similarity matrix.\n",
      "Computing the msd similarity matrix...\n",
      "Done computing similarity matrix.\n",
      "Computing the msd similarity matrix...\n",
      "Done computing similarity matrix.\n",
      "Computing the msd similarity matrix...\n",
      "Done computing similarity matrix.\n",
      "Estimating biases using als...\n",
      "Estimating biases using als...\n",
      "Estimating biases using als...\n"
     ]
    }
   ],
   "source": [
    "#Benchmark, getting all Rmse values from different algorithms for comparison\n",
    "from surprise import SVD, SVDpp, BaselineOnly\n",
    "from surprise.prediction_algorithms import KNNWithMeans, KNNBasic, KNNBaseline\n",
    "from surprise import Dataset, Reader\n",
    "from surprise import accuracy\n",
    "from surprise.model_selection import cross_validate, train_test_split, GridSearchCV\n",
    "#Benchmark\n",
    "reader = Reader(rating_scale=(1, 5))\n",
    "data = Dataset.load_from_df(rating_with_title[['userId', 'movieId', 'rating']], reader)\n",
    "benchmark = []\n",
    "# Iterate over all algorithms\n",
    "for algorithm in [SVD(), SVDpp(), KNNBaseline(), KNNBasic(), KNNWithMeans(), BaselineOnly()]:\n",
    "    results = cross_validate(algorithm, data, measures=['RMSE'], cv=3, verbose=False)\n",
    "    tmp = pd.DataFrame.from_dict(results).mean(axis=0)\n",
    "    tmp = tmp.append(pd.Series([str(algorithm).split(' ')[0].split('.')[-1]], index=['Algorithm']))\n",
    "    benchmark.append(tmp)"
   ]
  },
  {
   "cell_type": "code",
   "execution_count": 15,
   "id": "9b6464bd",
   "metadata": {},
   "outputs": [
    {
     "data": {
      "text/html": [
       "<div>\n",
       "<style scoped>\n",
       "    .dataframe tbody tr th:only-of-type {\n",
       "        vertical-align: middle;\n",
       "    }\n",
       "\n",
       "    .dataframe tbody tr th {\n",
       "        vertical-align: top;\n",
       "    }\n",
       "\n",
       "    .dataframe thead th {\n",
       "        text-align: right;\n",
       "    }\n",
       "</style>\n",
       "<table border=\"1\" class=\"dataframe\">\n",
       "  <thead>\n",
       "    <tr style=\"text-align: right;\">\n",
       "      <th></th>\n",
       "      <th>test_rmse</th>\n",
       "      <th>fit_time</th>\n",
       "      <th>test_time</th>\n",
       "      <th>Algorithm</th>\n",
       "    </tr>\n",
       "  </thead>\n",
       "  <tbody>\n",
       "    <tr>\n",
       "      <th>0</th>\n",
       "      <td>0.827064</td>\n",
       "      <td>1.467875</td>\n",
       "      <td>0.092519</td>\n",
       "      <td>SVD</td>\n",
       "    </tr>\n",
       "    <tr>\n",
       "      <th>1</th>\n",
       "      <td>0.810085</td>\n",
       "      <td>118.197996</td>\n",
       "      <td>3.348141</td>\n",
       "      <td>SVDpp</td>\n",
       "    </tr>\n",
       "    <tr>\n",
       "      <th>2</th>\n",
       "      <td>0.815769</td>\n",
       "      <td>0.084170</td>\n",
       "      <td>0.798312</td>\n",
       "      <td>KNNBaseline</td>\n",
       "    </tr>\n",
       "    <tr>\n",
       "      <th>3</th>\n",
       "      <td>0.884730</td>\n",
       "      <td>0.038343</td>\n",
       "      <td>0.551294</td>\n",
       "      <td>KNNBasic</td>\n",
       "    </tr>\n",
       "    <tr>\n",
       "      <th>4</th>\n",
       "      <td>0.823896</td>\n",
       "      <td>0.046329</td>\n",
       "      <td>0.630625</td>\n",
       "      <td>KNNWithMeans</td>\n",
       "    </tr>\n",
       "    <tr>\n",
       "      <th>5</th>\n",
       "      <td>0.823489</td>\n",
       "      <td>0.050513</td>\n",
       "      <td>0.069136</td>\n",
       "      <td>BaselineOnly</td>\n",
       "    </tr>\n",
       "  </tbody>\n",
       "</table>\n",
       "</div>"
      ],
      "text/plain": [
       "   test_rmse    fit_time  test_time     Algorithm\n",
       "0   0.827064    1.467875   0.092519           SVD\n",
       "1   0.810085  118.197996   3.348141         SVDpp\n",
       "2   0.815769    0.084170   0.798312   KNNBaseline\n",
       "3   0.884730    0.038343   0.551294      KNNBasic\n",
       "4   0.823896    0.046329   0.630625  KNNWithMeans\n",
       "5   0.823489    0.050513   0.069136  BaselineOnly"
      ]
     },
     "execution_count": 15,
     "metadata": {},
     "output_type": "execute_result"
    }
   ],
   "source": [
    "#Listing out all benchmark\n",
    "pd.DataFrame(benchmark)\n",
    "#SVDpp has only 0.809325 of rmse, but with increditably long fit_time and test_time"
   ]
  },
  {
   "cell_type": "code",
   "execution_count": 68,
   "id": "e9e9f659",
   "metadata": {},
   "outputs": [
    {
     "name": "stdout",
     "output_type": "stream",
     "text": [
      "0.8247529409205835\n",
      "{'n_epochs': 10, 'lr_all': 0.01}\n",
      "Evaluating RMSE, MAE of algorithm SVD on 5 split(s).\n",
      "\n",
      "                  Fold 1  Fold 2  Fold 3  Fold 4  Fold 5  Mean    Std     \n",
      "RMSE (testset)    0.8106  0.8323  0.8080  0.8246  0.8152  0.8181  0.0091  \n",
      "MAE (testset)     0.6221  0.6371  0.6224  0.6310  0.6258  0.6277  0.0057  \n",
      "Fit time          0.90    0.94    0.94    0.90    0.91    0.92    0.02    \n",
      "Test time         0.10    0.05    0.05    0.05    0.05    0.06    0.02    \n"
     ]
    }
   ],
   "source": [
    "#SVD\n",
    "# get the list of the movie ids\n",
    "combined_movies_data = rating_with_title[['userId','movieId', 'rating']]\n",
    "unique_ids = combined_movies_data['movieId'].unique()\n",
    "\n",
    "#Apply grid search to do a brute-force search for the hyper-parameters for the SVD algorithm\n",
    "def find_score_svd(data):\n",
    "    from surprise.model_selection import RandomizedSearchCV\n",
    "    param_grid = {'n_epochs': [5, 10, 20, 30], 'lr_all': [.0025, .005, .001, .01]}\n",
    "    grid_search = GridSearchCV(SVD, param_grid, measures=['rmse', 'mae'], cv=3)\n",
    "    grid_search.fit(data)\n",
    "    algo = grid_search.best_estimator['rmse']\n",
    "    print(grid_search.best_score['rmse'])\n",
    "    print(grid_search.best_params['rmse'])\n",
    "    cross_validate(algo, data, measures=['RMSE', 'MAE'], cv=5, verbose=True)\n",
    "    \n",
    "data = Dataset.load_from_df(rating_with_title[['userId', 'movieId', 'rating']], reader)  \n",
    "find_score_svd(data)\n",
    "#{'n_epochs': 10, 'lr_all': 0.01} These are the hyper-parameters that works well"
   ]
  },
  {
   "cell_type": "code",
   "execution_count": 81,
   "id": "d7001768",
   "metadata": {},
   "outputs": [
    {
     "name": "stdout",
     "output_type": "stream",
     "text": [
      "Enter user id: 1\n"
     ]
    },
    {
     "data": {
      "text/html": [
       "<div>\n",
       "<style scoped>\n",
       "    .dataframe tbody tr th:only-of-type {\n",
       "        vertical-align: middle;\n",
       "    }\n",
       "\n",
       "    .dataframe tbody tr th {\n",
       "        vertical-align: top;\n",
       "    }\n",
       "\n",
       "    .dataframe thead th {\n",
       "        text-align: right;\n",
       "    }\n",
       "</style>\n",
       "<table border=\"1\" class=\"dataframe\">\n",
       "  <thead>\n",
       "    <tr style=\"text-align: right;\">\n",
       "      <th></th>\n",
       "      <th>movieId</th>\n",
       "      <th>predictions</th>\n",
       "      <th>title</th>\n",
       "    </tr>\n",
       "  </thead>\n",
       "  <tbody>\n",
       "    <tr>\n",
       "      <th>191</th>\n",
       "      <td>904</td>\n",
       "      <td>5.0</td>\n",
       "      <td>Rear Window (1954)</td>\n",
       "    </tr>\n",
       "    <tr>\n",
       "      <th>78</th>\n",
       "      <td>318</td>\n",
       "      <td>5.0</td>\n",
       "      <td>Shawshank Redemption, The (1994)</td>\n",
       "    </tr>\n",
       "    <tr>\n",
       "      <th>1029</th>\n",
       "      <td>7022</td>\n",
       "      <td>5.0</td>\n",
       "      <td>Battle Royale (Batoru rowaiaru) (2000)</td>\n",
       "    </tr>\n",
       "    <tr>\n",
       "      <th>184</th>\n",
       "      <td>858</td>\n",
       "      <td>5.0</td>\n",
       "      <td>Godfather, The (1972)</td>\n",
       "    </tr>\n",
       "    <tr>\n",
       "      <th>1347</th>\n",
       "      <td>79132</td>\n",
       "      <td>5.0</td>\n",
       "      <td>Inception (2010)</td>\n",
       "    </tr>\n",
       "  </tbody>\n",
       "</table>\n",
       "</div>"
      ],
      "text/plain": [
       "      movieId  predictions                                   title\n",
       "191       904          5.0                      Rear Window (1954)\n",
       "78        318          5.0        Shawshank Redemption, The (1994)\n",
       "1029     7022          5.0  Battle Royale (Batoru rowaiaru) (2000)\n",
       "184       858          5.0                   Godfather, The (1972)\n",
       "1347    79132          5.0                        Inception (2010)"
      ]
     },
     "metadata": {},
     "output_type": "display_data"
    },
    {
     "name": "stdout",
     "output_type": "stream",
     "text": [
      "---------------SVD RMSE result-------------\n",
      "RMSE: 0.8137\n"
     ]
    }
   ],
   "source": [
    "#Apply the hyper-parameters into the function\n",
    "\n",
    "def svd(userID):\n",
    "    reader = Reader(rating_scale=(1, 5))\n",
    "    data = Dataset.load_from_df(rating_with_title[['userId', 'movieId', 'rating']], reader)\n",
    "    trainset, testset = train_test_split(data, test_size=.25)\n",
    "    algo = SVD(n_epochs=10, lr_all= 0.01)\n",
    "    algo.fit(trainset)\n",
    "    predictions = algo.test(testset)\n",
    "    \n",
    "    performance = cross_validate(algo, data, measures=['RMSE', 'MAE'],cv = 5, verbose=False)\n",
    "    recommandation_list = []\n",
    "    \n",
    "    # get the list of the ids that the userid 1001 has rated\n",
    "    id_user = combined_movies_data.loc[combined_movies_data['userId'] == userID, 'movieId']\n",
    "    # remove the rated movies for the recommendations\n",
    "    movies_to_predict = np.setdiff1d(unique_ids, id_user)\n",
    "    \n",
    "    recommandation_list = []\n",
    "    for iid in movies_to_predict:\n",
    "        recommandation_list.append((iid, algo.predict(uid = userID, iid = iid).est))\n",
    "    \n",
    "    df_final = pd.DataFrame(recommandation_list, columns=['movieId', 'predictions']).sort_values('predictions', ascending=False).head()\n",
    "    df_final['title'] = df_final['movieId'].map(movies_dict)\n",
    "    return df_final, predictions, performance\n",
    "\n",
    "def askUser():\n",
    "    user = int(input(\"Enter user id: \"))\n",
    "    df_final, predictions, performance = svd(user)\n",
    "    display(df_final)\n",
    "    print('---------------SVD RMSE result-------------')\n",
    "    accuracy.rmse(predictions)\n",
    "\n",
    "askUser()"
   ]
  },
  {
   "cell_type": "code",
   "execution_count": null,
   "id": "2cc85775",
   "metadata": {},
   "outputs": [],
   "source": []
  }
 ],
 "metadata": {
  "kernelspec": {
   "display_name": "Python 3 (ipykernel)",
   "language": "python",
   "name": "python3"
  },
  "language_info": {
   "codemirror_mode": {
    "name": "ipython",
    "version": 3
   },
   "file_extension": ".py",
   "mimetype": "text/x-python",
   "name": "python",
   "nbconvert_exporter": "python",
   "pygments_lexer": "ipython3",
   "version": "3.9.7"
  }
 },
 "nbformat": 4,
 "nbformat_minor": 5
}
